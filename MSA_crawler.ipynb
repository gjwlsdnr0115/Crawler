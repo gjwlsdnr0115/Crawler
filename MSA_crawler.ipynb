{
 "cells": [
  {
   "cell_type": "code",
   "execution_count": 1,
   "metadata": {},
   "outputs": [],
   "source": [
    "import requests\n",
    "from bs4 import BeautifulSoup\n",
    "import regex\n",
    "import time\n",
    "import re\n",
    "from selenium import webdriver\n",
    "from selenium.webdriver.common.keys import Keys"
   ]
  },
  {
   "cell_type": "code",
   "execution_count": 2,
   "metadata": {},
   "outputs": [],
   "source": [
    "def get_contents(url, driver_path):\n",
    "    driver = webdriver.Chrome(path)\n",
    "    \n",
    "    driver.get(url)\n",
    "    driver.execute_script('document.querySelector(\"body > script:nth-child(4)\")')\n",
    "    time.sleep(2)\n",
    "    try:\n",
    "        title = driver.find_element_by_css_selector('body > div > div > div > router-view > div > div > div > div > div.name').text\n",
    "        abstract = driver.find_element_by_css_selector('body > div > div > div > router-view > div > div > div > div > p').text\n",
    "    except:\n",
    "        title = 'null'\n",
    "        abstract = 'null'\n",
    "    driver.quit()\n",
    "    return (title, abstract)"
   ]
  },
  {
   "cell_type": "code",
   "execution_count": 3,
   "metadata": {},
   "outputs": [],
   "source": [
    "def MSA_crawler(url, query, max_pages,DRIVER_PATH, RESULT_PATH):\n",
    "    \n",
    "    f = open(RESULT_PATH + \"%s.txt\" % str(query), 'w', encoding='utf-8')\n",
    "    \n",
    "    for i in range(max_pages):\n",
    "        num = i * 10\n",
    "        \n",
    "        n_url = url + str(num) + '&take=10'\n",
    "    \n",
    "        driver = webdriver.Chrome(DRIVER_PATH)\n",
    "\n",
    "        driver.get(n_url)\n",
    "        driver.execute_script('document.querySelector(\"body > script:nth-child(4)\")')\n",
    "        time.sleep(5)\n",
    "\n",
    "        continue_link = driver.find_element_by_tag_name('a')\n",
    "        elem = driver.find_elements_by_xpath(\"//*[@href]\")\n",
    "\n",
    "        links = []\n",
    "        for e in elem:\n",
    "            link = e.get_attribute('href')\n",
    "            if link.startswith('https://academic.microsoft.com/paper/'):\n",
    "                link = re.sub('/([^//]?)+$','', link)\n",
    "                links.append(link)\n",
    "        papers = set(links)\n",
    "        driver.quit()\n",
    "        for paper in papers:\n",
    "            paper_details = get_contents(paper, DRIVER_PATH)\n",
    "            print(paper_details[0])\n",
    "            print(paper)\n",
    "            f.write(\"{}\\n{}\\n\".format(paper_details[0], paper_details[1]))\n",
    "            \n",
    "        print('Page {} complete!'.format(i+1))"
   ]
  },
  {
   "cell_type": "code",
   "execution_count": 4,
   "metadata": {},
   "outputs": [],
   "source": [
    "t_url = 'https://academic.microsoft.com/search?q=artificial%20intelligence&f=Composite(AA.AfId%3D1291425158)&eyl=Y%3C%3D2021&syl=Y%3E%3D2010&orderBy=0&skip='\n",
    "query = 'google'\n",
    "max_pages = 49\n",
    "d_path = '/Users/gjwlsdnr0115/Desktop/aibrain/chromedriver'\n",
    "r_path = '/Users/gjwlsdnr0115/Desktop/aibrain/'"
   ]
  },
  {
   "cell_type": "code",
   "execution_count": null,
   "metadata": {},
   "outputs": [],
   "source": [
    "MSA_crawler(t_url, query, max_pages, d_path, r_path)"
   ]
  }
 ],
 "metadata": {
  "kernelspec": {
   "display_name": "Python 3",
   "language": "python",
   "name": "python3"
  },
  "language_info": {
   "codemirror_mode": {
    "name": "ipython",
    "version": 3
   },
   "file_extension": ".py",
   "mimetype": "text/x-python",
   "name": "python",
   "nbconvert_exporter": "python",
   "pygments_lexer": "ipython3",
   "version": "3.8.2"
  }
 },
 "nbformat": 4,
 "nbformat_minor": 4
}
